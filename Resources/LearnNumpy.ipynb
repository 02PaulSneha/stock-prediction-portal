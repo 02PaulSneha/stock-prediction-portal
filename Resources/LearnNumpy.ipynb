{
 "cells": [
  {
   "cell_type": "code",
   "execution_count": 1,
   "id": "39ce18e2-02d6-4228-aa23-ef7b2b890aaf",
   "metadata": {},
   "outputs": [],
   "source": [
    "import numpy as np\n"
   ]
  },
  {
   "cell_type": "code",
   "execution_count": 2,
   "id": "e28a5423-7660-46ff-be25-3bf20a11fa78",
   "metadata": {},
   "outputs": [
    {
     "data": {
      "text/plain": [
       "'2.2.4'"
      ]
     },
     "execution_count": 2,
     "metadata": {},
     "output_type": "execute_result"
    }
   ],
   "source": [
    "np.__version__"
   ]
  },
  {
   "cell_type": "markdown",
   "id": "83500ac5-8ee1-4a1b-ad03-b9c59c487ae1",
   "metadata": {},
   "source": [
    "## Create & Read"
   ]
  },
  {
   "cell_type": "markdown",
   "id": "6446ce17-21e2-4244-a5a6-44a00fac752d",
   "metadata": {},
   "source": [
    "### 1D Array"
   ]
  },
  {
   "cell_type": "code",
   "execution_count": 3,
   "id": "d60a7bd7-c151-44fc-b7e9-1091ddb322cd",
   "metadata": {},
   "outputs": [
    {
     "data": {
      "text/plain": [
       "array([1, 2, 3, 4, 5])"
      ]
     },
     "execution_count": 3,
     "metadata": {},
     "output_type": "execute_result"
    }
   ],
   "source": [
    "arr1 = np.array([1,2,3,4,5]) # 1D does not have rows and col\n",
    "arr1"
   ]
  },
  {
   "cell_type": "code",
   "execution_count": 4,
   "id": "f190a195-7971-4e4b-872e-c254c903fec7",
   "metadata": {},
   "outputs": [
    {
     "data": {
      "text/plain": [
       "numpy.ndarray"
      ]
     },
     "execution_count": 4,
     "metadata": {},
     "output_type": "execute_result"
    }
   ],
   "source": [
    "type(arr1)"
   ]
  },
  {
   "cell_type": "code",
   "execution_count": 5,
   "id": "bbf41a88-260f-4525-85da-fe3d89e13963",
   "metadata": {},
   "outputs": [
    {
     "data": {
      "text/plain": [
       "(5,)"
      ]
     },
     "execution_count": 5,
     "metadata": {},
     "output_type": "execute_result"
    }
   ],
   "source": [
    "arr1.shape # printing nu. of element"
   ]
  },
  {
   "cell_type": "code",
   "execution_count": 6,
   "id": "6f09f65f-4836-4473-8142-2e89527d8a55",
   "metadata": {},
   "outputs": [
    {
     "data": {
      "text/plain": [
       "dtype('int64')"
      ]
     },
     "execution_count": 6,
     "metadata": {},
     "output_type": "execute_result"
    }
   ],
   "source": [
    "arr1.dtype"
   ]
  },
  {
   "cell_type": "code",
   "execution_count": 7,
   "id": "5000eb8d-d49f-4a38-b7e1-b90451b78585",
   "metadata": {},
   "outputs": [
    {
     "data": {
      "text/plain": [
       "1"
      ]
     },
     "execution_count": 7,
     "metadata": {},
     "output_type": "execute_result"
    }
   ],
   "source": [
    "arr1.ndim # ndim = number of dimention array / output is 1/1D"
   ]
  },
  {
   "cell_type": "code",
   "execution_count": 8,
   "id": "4ed61aab-b072-472e-8624-c6614dee2cae",
   "metadata": {},
   "outputs": [
    {
     "data": {
      "text/plain": [
       "5"
      ]
     },
     "execution_count": 8,
     "metadata": {},
     "output_type": "execute_result"
    }
   ],
   "source": [
    "arr1.size # array size"
   ]
  },
  {
   "cell_type": "markdown",
   "id": "9f03a3c6-5cac-4011-bf09-0554c66cfb57",
   "metadata": {},
   "source": [
    "### 2D Array"
   ]
  },
  {
   "cell_type": "code",
   "execution_count": 9,
   "id": "bc524f31-25ac-42d8-9638-b5b84228bb33",
   "metadata": {},
   "outputs": [
    {
     "data": {
      "text/plain": [
       "array([[1, 4, 5],\n",
       "       [6, 7, 4]])"
      ]
     },
     "execution_count": 9,
     "metadata": {},
     "output_type": "execute_result"
    }
   ],
   "source": [
    "arr2 = np.array([[1,4,5], [6,7,4]]) ## array inside array/nested array\n",
    "arr2"
   ]
  },
  {
   "cell_type": "code",
   "execution_count": 10,
   "id": "d4bf6cd8-07b8-477b-b623-9c1d6654281a",
   "metadata": {},
   "outputs": [
    {
     "data": {
      "text/plain": [
       "2"
      ]
     },
     "execution_count": 10,
     "metadata": {},
     "output_type": "execute_result"
    }
   ],
   "source": [
    "arr2.ndim  #number of dimention array / output is 2/2D"
   ]
  },
  {
   "cell_type": "code",
   "execution_count": 11,
   "id": "93ac5e14-3a5d-434f-98f6-075195cddbb3",
   "metadata": {},
   "outputs": [
    {
     "data": {
      "text/plain": [
       "(2, 3)"
      ]
     },
     "execution_count": 11,
     "metadata": {},
     "output_type": "execute_result"
    }
   ],
   "source": [
    "arr2.shape #(row,col)"
   ]
  },
  {
   "cell_type": "code",
   "execution_count": 12,
   "id": "25b42069-b622-4aef-b08c-490e8dca0412",
   "metadata": {},
   "outputs": [
    {
     "data": {
      "text/plain": [
       "dtype('int64')"
      ]
     },
     "execution_count": 12,
     "metadata": {},
     "output_type": "execute_result"
    }
   ],
   "source": [
    "arr2.dtype"
   ]
  },
  {
   "cell_type": "code",
   "execution_count": 13,
   "id": "730bc0c5-e18a-4aad-a1d0-c44d84cca83b",
   "metadata": {},
   "outputs": [
    {
     "data": {
      "text/plain": [
       "6"
      ]
     },
     "execution_count": 13,
     "metadata": {},
     "output_type": "execute_result"
    }
   ],
   "source": [
    "arr2.size"
   ]
  },
  {
   "cell_type": "markdown",
   "id": "6211b933-5df5-435d-a894-30ac4bf42590",
   "metadata": {},
   "source": [
    "### 3D Array"
   ]
  },
  {
   "cell_type": "code",
   "execution_count": 21,
   "id": "059aa98f-9664-4e08-9774-ef33a4a802b5",
   "metadata": {},
   "outputs": [],
   "source": [
    "arr3 = np.array([[[1,4,5], [6,7,4]], [[3,4,5], [8,7,6]]])# Array inside array inside array"
   ]
  },
  {
   "cell_type": "code",
   "execution_count": 18,
   "id": "81fbe8d7-bf8a-4c60-a000-4f46e037140c",
   "metadata": {},
   "outputs": [
    {
     "data": {
      "text/plain": [
       "array([[[1, 4, 5],\n",
       "        [6, 7, 4]],\n",
       "\n",
       "       [[3, 4, 5],\n",
       "        [8, 7, 6]]])"
      ]
     },
     "execution_count": 18,
     "metadata": {},
     "output_type": "execute_result"
    }
   ],
   "source": [
    "arr3"
   ]
  },
  {
   "cell_type": "code",
   "execution_count": 19,
   "id": "c1b997c8-5280-4d57-8606-641a5aeba98d",
   "metadata": {},
   "outputs": [
    {
     "data": {
      "text/plain": [
       "3"
      ]
     },
     "execution_count": 19,
     "metadata": {},
     "output_type": "execute_result"
    }
   ],
   "source": [
    "arr3.ndim"
   ]
  },
  {
   "cell_type": "code",
   "execution_count": 20,
   "id": "4ab8d974-1f2e-4bd6-865f-9f75bb2f0b3e",
   "metadata": {},
   "outputs": [
    {
     "data": {
      "text/plain": [
       "(2, 2, 3)"
      ]
     },
     "execution_count": 20,
     "metadata": {},
     "output_type": "execute_result"
    }
   ],
   "source": [
    "arr3.shape # (2 is number of layers/2d array ,2 rows ,  3 col)"
   ]
  },
  {
   "cell_type": "code",
   "execution_count": 23,
   "id": "417bc189-23b7-4ac1-ab76-2416fc735849",
   "metadata": {},
   "outputs": [],
   "source": [
    "arr3 = np.array([[[1,4,5],[6,7,4]], [[3,4,5],[8,7,6]], [[1,4,5],[6,7,4]], [[3,4,5],[8,7,6]]])\n"
   ]
  },
  {
   "cell_type": "code",
   "execution_count": 24,
   "id": "32d5f24c-1521-47c2-a8ca-399201adaa65",
   "metadata": {},
   "outputs": [
    {
     "data": {
      "text/plain": [
       "array([[[1, 4, 5],\n",
       "        [6, 7, 4]],\n",
       "\n",
       "       [[3, 4, 5],\n",
       "        [8, 7, 6]],\n",
       "\n",
       "       [[1, 4, 5],\n",
       "        [6, 7, 4]],\n",
       "\n",
       "       [[3, 4, 5],\n",
       "        [8, 7, 6]]])"
      ]
     },
     "execution_count": 24,
     "metadata": {},
     "output_type": "execute_result"
    }
   ],
   "source": [
    "arr3"
   ]
  },
  {
   "cell_type": "code",
   "execution_count": 25,
   "id": "4aca1775-36f1-4e62-88ea-3096996297b3",
   "metadata": {},
   "outputs": [
    {
     "data": {
      "text/plain": [
       "(4, 2, 3)"
      ]
     },
     "execution_count": 25,
     "metadata": {},
     "output_type": "execute_result"
    }
   ],
   "source": [
    "arr3.shape"
   ]
  },
  {
   "cell_type": "code",
   "execution_count": 26,
   "id": "38d5ad36-f927-4750-81c5-7ecf3e1d042c",
   "metadata": {},
   "outputs": [
    {
     "data": {
      "text/plain": [
       "24"
      ]
     },
     "execution_count": 26,
     "metadata": {},
     "output_type": "execute_result"
    }
   ],
   "source": [
    "arr3.size"
   ]
  },
  {
   "cell_type": "markdown",
   "id": "df10ad46-8d2a-405c-b28e-d02abae63852",
   "metadata": {},
   "source": [
    "## Create Random Araay"
   ]
  },
  {
   "cell_type": "code",
   "execution_count": 27,
   "id": "ab31bf5b-9231-4aba-9ed0-4bdcdef61d2d",
   "metadata": {},
   "outputs": [
    {
     "data": {
      "text/plain": [
       "array([[[0.28373361, 0.40936696, 0.26434049],\n",
       "        [0.61039028, 0.55299316, 0.93354204]],\n",
       "\n",
       "       [[0.25124304, 0.10423687, 0.1869667 ],\n",
       "        [0.30119362, 0.1259808 , 0.56965745]],\n",
       "\n",
       "       [[0.91329937, 0.69047898, 0.94283153],\n",
       "        [0.74621822, 0.23164816, 0.78812241]]])"
      ]
     },
     "execution_count": 27,
     "metadata": {},
     "output_type": "execute_result"
    }
   ],
   "source": [
    "randomArr = np.random.rand(3,2,3) # gives random array(3 layer , 2 row, 3 col)\n",
    "randomArr"
   ]
  },
  {
   "cell_type": "code",
   "execution_count": 28,
   "id": "5201e8c3-c560-41a8-8c34-57b4d1e4b733",
   "metadata": {},
   "outputs": [
    {
     "data": {
      "text/plain": [
       "dtype('float64')"
      ]
     },
     "execution_count": 28,
     "metadata": {},
     "output_type": "execute_result"
    }
   ],
   "source": [
    "randomArr.dtype"
   ]
  },
  {
   "cell_type": "code",
   "execution_count": 30,
   "id": "8fc18fac-8358-4fb4-be48-4a30da56f696",
   "metadata": {},
   "outputs": [
    {
     "data": {
      "text/plain": [
       "array([[[0., 0., 0.],\n",
       "        [0., 0., 0.]],\n",
       "\n",
       "       [[0., 0., 0.],\n",
       "        [0., 0., 0.]],\n",
       "\n",
       "       [[0., 0., 0.],\n",
       "        [0., 0., 0.]]])"
      ]
     },
     "execution_count": 30,
     "metadata": {},
     "output_type": "execute_result"
    }
   ],
   "source": [
    "zeroes = np.zeros((3,2,3)) # pass all 0\n",
    "zeroes"
   ]
  },
  {
   "cell_type": "code",
   "execution_count": 31,
   "id": "d01b8f47-8ed6-43a5-b79a-50e54081eeda",
   "metadata": {},
   "outputs": [
    {
     "data": {
      "text/plain": [
       "3"
      ]
     },
     "execution_count": 31,
     "metadata": {},
     "output_type": "execute_result"
    }
   ],
   "source": [
    "zeroes.ndim"
   ]
  },
  {
   "cell_type": "code",
   "execution_count": 32,
   "id": "749b9604-8c24-47cd-a652-2751bf00a5cc",
   "metadata": {},
   "outputs": [
    {
     "data": {
      "text/plain": [
       "array([[[8, 8, 8],\n",
       "        [8, 8, 8]],\n",
       "\n",
       "       [[8, 8, 8],\n",
       "        [8, 8, 8]],\n",
       "\n",
       "       [[8, 8, 8],\n",
       "        [8, 8, 8]]])"
      ]
     },
     "execution_count": 32,
     "metadata": {},
     "output_type": "execute_result"
    }
   ],
   "source": [
    "full = np.full((3,2,3), 8) # print all 8 layer,row ,col\n",
    "full"
   ]
  },
  {
   "cell_type": "code",
   "execution_count": 33,
   "id": "46324b96-ef6c-41ab-827d-08fb1628020f",
   "metadata": {},
   "outputs": [
    {
     "data": {
      "text/plain": [
       "array([[[1., 1., 1.],\n",
       "        [1., 1., 1.]],\n",
       "\n",
       "       [[1., 1., 1.],\n",
       "        [1., 1., 1.]],\n",
       "\n",
       "       [[1., 1., 1.],\n",
       "        [1., 1., 1.]]])"
      ]
     },
     "execution_count": 33,
     "metadata": {},
     "output_type": "execute_result"
    }
   ],
   "source": [
    "ones = np.ones((3,2,3))\n",
    "ones"
   ]
  },
  {
   "cell_type": "code",
   "execution_count": 35,
   "id": "6dc591b4-a5a3-47fc-a401-d03942bcd98c",
   "metadata": {},
   "outputs": [
    {
     "data": {
      "text/plain": [
       "array([[[1, 4, 5],\n",
       "        [6, 7, 4]],\n",
       "\n",
       "       [[3, 4, 5],\n",
       "        [8, 7, 6]],\n",
       "\n",
       "       [[1, 4, 5],\n",
       "        [6, 7, 4]],\n",
       "\n",
       "       [[3, 4, 5],\n",
       "        [8, 7, 6]]])"
      ]
     },
     "execution_count": 35,
     "metadata": {},
     "output_type": "execute_result"
    }
   ],
   "source": [
    "arr3"
   ]
  },
  {
   "cell_type": "code",
   "execution_count": 37,
   "id": "4ba2b38b-81ce-4cd8-885a-a0db9227e6d5",
   "metadata": {},
   "outputs": [
    {
     "data": {
      "text/plain": [
       "np.int64(5)"
      ]
     },
     "execution_count": 37,
     "metadata": {},
     "output_type": "execute_result"
    }
   ],
   "source": [
    "arr3[0][0][2] # 0 index 0 index 2 index thats why print 5"
   ]
  },
  {
   "cell_type": "code",
   "execution_count": 38,
   "id": "221f7fcf-dd91-4ebf-8ecd-980ab7781dbd",
   "metadata": {},
   "outputs": [
    {
     "data": {
      "text/plain": [
       "array([[[1, 4, 5],\n",
       "        [6, 7, 4]],\n",
       "\n",
       "       [[3, 4, 5],\n",
       "        [8, 7, 6]]])"
      ]
     },
     "execution_count": 38,
     "metadata": {},
     "output_type": "execute_result"
    }
   ],
   "source": [
    "arr3 [0:2]"
   ]
  },
  {
   "cell_type": "code",
   "execution_count": 39,
   "id": "225fa9a1-6b05-4f12-bf51-d33f0c8e02b2",
   "metadata": {},
   "outputs": [
    {
     "data": {
      "text/plain": [
       "array([[[1, 4, 5],\n",
       "        [6, 7, 4]],\n",
       "\n",
       "       [[3, 4, 5],\n",
       "        [8, 7, 6]],\n",
       "\n",
       "       [[1, 4, 5],\n",
       "        [6, 7, 4]]])"
      ]
     },
     "execution_count": 39,
     "metadata": {},
     "output_type": "execute_result"
    }
   ],
   "source": [
    "arr3 [0:3]"
   ]
  },
  {
   "cell_type": "code",
   "execution_count": 40,
   "id": "3005bfb2-be17-4ca7-a869-50d2b77a0a07",
   "metadata": {},
   "outputs": [
    {
     "data": {
      "text/plain": [
       "array([[3, 4, 5],\n",
       "       [8, 7, 6]])"
      ]
     },
     "execution_count": 40,
     "metadata": {},
     "output_type": "execute_result"
    }
   ],
   "source": [
    "arr3 [-1]"
   ]
  },
  {
   "cell_type": "code",
   "execution_count": 42,
   "id": "295dcfb9-ac2f-4021-995c-c120af86c236",
   "metadata": {},
   "outputs": [
    {
     "data": {
      "text/plain": [
       "np.int64(4)"
      ]
     },
     "execution_count": 42,
     "metadata": {},
     "output_type": "execute_result"
    }
   ],
   "source": [
    "arr3[1][0][1] # 2nd layer, 1st row of 2nd layer, 2nd element of that row"
   ]
  },
  {
   "cell_type": "code",
   "execution_count": 43,
   "id": "cd9b744a-4bd3-4f5b-8404-9b9fce8c3b18",
   "metadata": {},
   "outputs": [
    {
     "data": {
      "text/plain": [
       "np.int64(4)"
      ]
     },
     "execution_count": 43,
     "metadata": {},
     "output_type": "execute_result"
    }
   ],
   "source": [
    "arr3[1,0,1]"
   ]
  },
  {
   "cell_type": "markdown",
   "id": "f0f5eef2-ac1c-400d-8c22-4ea5f1d235dd",
   "metadata": {},
   "source": [
    " ## Update & Delete"
   ]
  },
  {
   "cell_type": "code",
   "execution_count": 44,
   "id": "e83795ba-a0df-499e-b326-93119d0a40bc",
   "metadata": {},
   "outputs": [],
   "source": [
    "a1 = np.random.rand(2,3,2)\n",
    "a2 = np.random.rand(2,3,2)"
   ]
  },
  {
   "cell_type": "code",
   "execution_count": 45,
   "id": "b1ee18f9-42e9-4591-8aa8-fcc1bfff9257",
   "metadata": {},
   "outputs": [
    {
     "data": {
      "text/plain": [
       "array([[[0.56045398, 0.61884333],\n",
       "        [0.90685106, 0.07506166],\n",
       "        [0.09373315, 0.0391524 ]],\n",
       "\n",
       "       [[0.64934452, 0.72057534],\n",
       "        [0.32857268, 0.71868044],\n",
       "        [0.98616303, 0.18795041]]])"
      ]
     },
     "execution_count": 45,
     "metadata": {},
     "output_type": "execute_result"
    }
   ],
   "source": [
    "a1"
   ]
  },
  {
   "cell_type": "code",
   "execution_count": 46,
   "id": "118e9c0d-7fb4-4d92-b167-d40d68c5a4c0",
   "metadata": {},
   "outputs": [
    {
     "data": {
      "text/plain": [
       "array([[[0.47380245, 0.21686934],\n",
       "        [0.63933577, 0.51704304],\n",
       "        [0.06927096, 0.0521127 ]],\n",
       "\n",
       "       [[0.96711509, 0.24330111],\n",
       "        [0.87936877, 0.95598808],\n",
       "        [0.88853521, 0.12643325]]])"
      ]
     },
     "execution_count": 46,
     "metadata": {},
     "output_type": "execute_result"
    }
   ],
   "source": [
    "a2"
   ]
  },
  {
   "cell_type": "markdown",
   "id": "8fab5182-a0de-4f56-b86f-f1d3f6586b8a",
   "metadata": {},
   "source": [
    "### Basic Math Operation"
   ]
  },
  {
   "cell_type": "code",
   "execution_count": 48,
   "id": "97b6d22e-05f4-4bf3-9a64-91485919621b",
   "metadata": {},
   "outputs": [
    {
     "data": {
      "text/plain": [
       "array([[[1.03425643, 0.83571266],\n",
       "        [1.54618682, 0.5921047 ],\n",
       "        [0.16300411, 0.0912651 ]],\n",
       "\n",
       "       [[1.61645961, 0.96387645],\n",
       "        [1.20794145, 1.67466852],\n",
       "        [1.87469824, 0.31438366]]])"
      ]
     },
     "execution_count": 48,
     "metadata": {},
     "output_type": "execute_result"
    }
   ],
   "source": [
    "np.add(a1,a2) # add number element wise"
   ]
  },
  {
   "cell_type": "code",
   "execution_count": 49,
   "id": "14de4f96-99c3-4a42-87f5-3b16fe12c340",
   "metadata": {},
   "outputs": [
    {
     "data": {
      "text/plain": [
       "array([[[ 0.08665152,  0.40197399],\n",
       "        [ 0.26751529, -0.44198137],\n",
       "        [ 0.02446219, -0.01296031]],\n",
       "\n",
       "       [[-0.31777057,  0.47727423],\n",
       "        [-0.55079609, -0.23730764],\n",
       "        [ 0.09762782,  0.06151715]]])"
      ]
     },
     "execution_count": 49,
     "metadata": {},
     "output_type": "execute_result"
    }
   ],
   "source": [
    "np.subtract(a1,a2)"
   ]
  },
  {
   "cell_type": "code",
   "execution_count": 50,
   "id": "1479d91f-d3e5-4699-a00a-59359b8ce8c9",
   "metadata": {},
   "outputs": [
    {
     "data": {
      "text/plain": [
       "array([[[1.18288534, 2.8535308 ],\n",
       "        [1.41842691, 0.14517488],\n",
       "        [1.35313772, 0.75130237]],\n",
       "\n",
       "       [[0.67142425, 2.96166069],\n",
       "        [0.37364606, 0.75176716],\n",
       "        [1.10987502, 1.48655834]]])"
      ]
     },
     "execution_count": 50,
     "metadata": {},
     "output_type": "execute_result"
    }
   ],
   "source": [
    "np.divide(a1,a2)"
   ]
  },
  {
   "cell_type": "code",
   "execution_count": 51,
   "id": "72071f26-2018-462a-b666-a8d7e8f93693",
   "metadata": {},
   "outputs": [
    {
     "data": {
      "text/plain": [
       "array([[[0.26554447, 0.13420814],\n",
       "        [0.57978232, 0.03881011],\n",
       "        [0.00649299, 0.00204034]],\n",
       "\n",
       "       [[0.62799088, 0.17531678],\n",
       "        [0.28893655, 0.68704993],\n",
       "        [0.87624058, 0.02376318]]])"
      ]
     },
     "execution_count": 51,
     "metadata": {},
     "output_type": "execute_result"
    }
   ],
   "source": [
    "np.multiply(a1,a2)"
   ]
  },
  {
   "cell_type": "code",
   "execution_count": null,
   "id": "91908207-a685-4eb5-9f87-edb92c8e7348",
   "metadata": {},
   "outputs": [],
   "source": []
  },
  {
   "cell_type": "markdown",
   "id": "427d2fd0-3b9b-4dbc-b32c-cfb214520d9a",
   "metadata": {},
   "source": [
    "### Statistical Operations"
   ]
  },
  {
   "cell_type": "code",
   "execution_count": 52,
   "id": "ae712ffa-2c72-4a5a-b6d4-3b5850e47694",
   "metadata": {},
   "outputs": [],
   "source": [
    "sqrt = np.sqrt(25)\n",
    "abs = np.abs(-2)\n",
    "power = np.power(2,8) # 2^8\n",
    "log = np.log(25)\n",
    "mins = np.min(a1)\n",
    "maxs = np.max(a2)"
   ]
  },
  {
   "cell_type": "code",
   "execution_count": 53,
   "id": "06d9b225-4409-4587-83e3-d5aead61cb12",
   "metadata": {},
   "outputs": [
    {
     "data": {
      "text/plain": [
       "np.float64(5.0)"
      ]
     },
     "execution_count": 53,
     "metadata": {},
     "output_type": "execute_result"
    }
   ],
   "source": [
    "sqrt"
   ]
  },
  {
   "cell_type": "code",
   "execution_count": 54,
   "id": "271553b9-693e-4a03-ae74-1a6f53bf78c1",
   "metadata": {},
   "outputs": [
    {
     "data": {
      "text/plain": [
       "np.int64(2)"
      ]
     },
     "execution_count": 54,
     "metadata": {},
     "output_type": "execute_result"
    }
   ],
   "source": [
    "abs"
   ]
  },
  {
   "cell_type": "code",
   "execution_count": 55,
   "id": "ce0d4f64-9743-412f-b580-64ee10b7dd4f",
   "metadata": {},
   "outputs": [
    {
     "data": {
      "text/plain": [
       "np.int64(256)"
      ]
     },
     "execution_count": 55,
     "metadata": {},
     "output_type": "execute_result"
    }
   ],
   "source": [
    "power"
   ]
  },
  {
   "cell_type": "code",
   "execution_count": 56,
   "id": "58fe4435-5233-4bfe-a31d-a8bde990e308",
   "metadata": {},
   "outputs": [
    {
     "data": {
      "text/plain": [
       "np.float64(3.2188758248682006)"
      ]
     },
     "execution_count": 56,
     "metadata": {},
     "output_type": "execute_result"
    }
   ],
   "source": [
    "log"
   ]
  },
  {
   "cell_type": "code",
   "execution_count": 57,
   "id": "b595a80d-9056-460d-ae54-46f662e5b5ee",
   "metadata": {},
   "outputs": [
    {
     "data": {
      "text/plain": [
       "np.float64(0.03915239765062495)"
      ]
     },
     "execution_count": 57,
     "metadata": {},
     "output_type": "execute_result"
    }
   ],
   "source": [
    "mins"
   ]
  },
  {
   "cell_type": "code",
   "execution_count": 58,
   "id": "9619ad44-597e-4e98-80c2-cdfce51c9d01",
   "metadata": {},
   "outputs": [
    {
     "data": {
      "text/plain": [
       "np.float64(0.96711508814261)"
      ]
     },
     "execution_count": 58,
     "metadata": {},
     "output_type": "execute_result"
    }
   ],
   "source": [
    "maxs"
   ]
  },
  {
   "cell_type": "code",
   "execution_count": null,
   "id": "4940610f-c5b9-4090-a8d6-e56685725c4f",
   "metadata": {},
   "outputs": [],
   "source": []
  },
  {
   "cell_type": "markdown",
   "id": "cb0ffc8e-3ff0-43f0-b3ff-cb60ace3605c",
   "metadata": {},
   "source": [
    "### Update"
   ]
  },
  {
   "cell_type": "code",
   "execution_count": 59,
   "id": "d099f38d-c9ba-4d74-92df-90fd78e9624b",
   "metadata": {},
   "outputs": [
    {
     "data": {
      "text/plain": [
       "array([[[1, 4, 5],\n",
       "        [6, 7, 4]],\n",
       "\n",
       "       [[3, 4, 5],\n",
       "        [8, 7, 6]],\n",
       "\n",
       "       [[1, 4, 5],\n",
       "        [6, 7, 4]],\n",
       "\n",
       "       [[3, 4, 5],\n",
       "        [8, 7, 6]]])"
      ]
     },
     "execution_count": 59,
     "metadata": {},
     "output_type": "execute_result"
    }
   ],
   "source": [
    "arr3"
   ]
  },
  {
   "cell_type": "code",
   "execution_count": 61,
   "id": "fcdf1543-6d6f-47d2-a956-a080413a5136",
   "metadata": {},
   "outputs": [
    {
     "data": {
      "text/plain": [
       "array([[[  1,   4, 500],\n",
       "        [  6,   7,   4]],\n",
       "\n",
       "       [[  3,   4,   5],\n",
       "        [  8,   7,   6]],\n",
       "\n",
       "       [[  1,   4,   5],\n",
       "        [  6,   7,   4]],\n",
       "\n",
       "       [[  3,   4,   5],\n",
       "        [  8,   7,   6]]])"
      ]
     },
     "execution_count": 61,
     "metadata": {},
     "output_type": "execute_result"
    }
   ],
   "source": [
    "arr3[0,0,2] = 500 # 1st element,1st row,2nd index of col\n",
    "arr3 # updating with a new value"
   ]
  },
  {
   "cell_type": "code",
   "execution_count": 62,
   "id": "59fc28ea-b7c7-4c20-a655-133f6ce76f41",
   "metadata": {},
   "outputs": [
    {
     "data": {
      "text/plain": [
       "array([[[  1,   4, 500],\n",
       "        [  4,   6,   7]],\n",
       "\n",
       "       [[  3,   4,   5],\n",
       "        [  6,   7,   8]],\n",
       "\n",
       "       [[  1,   4,   5],\n",
       "        [  4,   6,   7]],\n",
       "\n",
       "       [[  3,   4,   5],\n",
       "        [  6,   7,   8]]])"
      ]
     },
     "execution_count": 62,
     "metadata": {},
     "output_type": "execute_result"
    }
   ],
   "source": [
    "arr3.sort() # sorting lower no to higher no\n",
    "arr3"
   ]
  },
  {
   "cell_type": "code",
   "execution_count": 63,
   "id": "c978e3a4-3c96-4749-932d-ecf627bd4396",
   "metadata": {},
   "outputs": [
    {
     "data": {
      "text/plain": [
       "(4, 2, 3)"
      ]
     },
     "execution_count": 63,
     "metadata": {},
     "output_type": "execute_result"
    }
   ],
   "source": [
    "# Reshape\n",
    "arr3.shape"
   ]
  },
  {
   "cell_type": "code",
   "execution_count": 72,
   "id": "eeca41ff-98dd-46e3-8f72-7c750d6f1a25",
   "metadata": {},
   "outputs": [
    {
     "data": {
      "text/plain": [
       "array([[[  1,   4, 500,   4],\n",
       "        [  6,   7,   3,   4],\n",
       "        [  5,   6,   7,   8]],\n",
       "\n",
       "       [[  1,   4,   5,   4],\n",
       "        [  6,   7,   3,   4],\n",
       "        [  5,   6,   7,   8]]])"
      ]
     },
     "execution_count": 72,
     "metadata": {},
     "output_type": "execute_result"
    }
   ],
   "source": [
    "arr3_reshape = arr3.reshape((2, 3, 4)) # 2 layers,3 rows,4 col\n",
    "arr3_reshape"
   ]
  },
  {
   "cell_type": "code",
   "execution_count": 73,
   "id": "fa198db7-e559-4466-8b26-71232d0991fd",
   "metadata": {},
   "outputs": [
    {
     "data": {
      "text/plain": [
       "(2, 3, 4)"
      ]
     },
     "execution_count": 73,
     "metadata": {},
     "output_type": "execute_result"
    }
   ],
   "source": [
    "arr3_reshape.shape"
   ]
  },
  {
   "cell_type": "markdown",
   "id": "e9043c8e-a2b3-46e2-8a4b-b66563216ba3",
   "metadata": {},
   "source": [
    "### Appending & Inserting"
   ]
  },
  {
   "cell_type": "code",
   "execution_count": 74,
   "id": "37a433cf-e462-48e5-ada1-e5f0768231e7",
   "metadata": {},
   "outputs": [
    {
     "data": {
      "text/plain": [
       "array([[[0., 0., 0.],\n",
       "        [0., 0., 0.]],\n",
       "\n",
       "       [[0., 0., 0.],\n",
       "        [0., 0., 0.]],\n",
       "\n",
       "       [[0., 0., 0.],\n",
       "        [0., 0., 0.]]])"
      ]
     },
     "execution_count": 74,
     "metadata": {},
     "output_type": "execute_result"
    }
   ],
   "source": [
    "zeroes"
   ]
  },
  {
   "cell_type": "code",
   "execution_count": 75,
   "id": "ce3977a8-abaf-44d9-b2f7-8746d02969bb",
   "metadata": {},
   "outputs": [
    {
     "data": {
      "text/plain": [
       "array([[[1., 1., 1.],\n",
       "        [1., 1., 1.]],\n",
       "\n",
       "       [[1., 1., 1.],\n",
       "        [1., 1., 1.]],\n",
       "\n",
       "       [[1., 1., 1.],\n",
       "        [1., 1., 1.]]])"
      ]
     },
     "execution_count": 75,
     "metadata": {},
     "output_type": "execute_result"
    }
   ],
   "source": [
    "# Create a new array\n",
    "new_array = np.ones((3,2,3))\n",
    "new_array"
   ]
  },
  {
   "cell_type": "code",
   "execution_count": 76,
   "id": "ad99f2b7-0b1b-464a-b677-01fba5a65035",
   "metadata": {},
   "outputs": [
    {
     "data": {
      "text/plain": [
       "array([[[0., 0., 0.],\n",
       "        [0., 0., 0.]],\n",
       "\n",
       "       [[0., 0., 0.],\n",
       "        [0., 0., 0.]],\n",
       "\n",
       "       [[0., 0., 0.],\n",
       "        [0., 0., 0.]],\n",
       "\n",
       "       [[1., 1., 1.],\n",
       "        [1., 1., 1.]],\n",
       "\n",
       "       [[1., 1., 1.],\n",
       "        [1., 1., 1.]],\n",
       "\n",
       "       [[1., 1., 1.],\n",
       "        [1., 1., 1.]]])"
      ]
     },
     "execution_count": 76,
     "metadata": {},
     "output_type": "execute_result"
    }
   ],
   "source": [
    "appd = np.append(zeroes, new_array,axis = 0) # axis 0 = row axis 1 =col \n",
    "appd # append = 0 + 1"
   ]
  },
  {
   "cell_type": "code",
   "execution_count": null,
   "id": "2b9cde8d-b843-4344-b6af-580cb3bc2cca",
   "metadata": {},
   "outputs": [],
   "source": []
  },
  {
   "cell_type": "code",
   "execution_count": 77,
   "id": "48fb832f-253c-44f8-9f7c-0d3864cdacc2",
   "metadata": {},
   "outputs": [],
   "source": [
    "# Insert\n"
   ]
  },
  {
   "cell_type": "code",
   "execution_count": 78,
   "id": "29442d5c-6926-40ce-b176-6e4fddb02848",
   "metadata": {},
   "outputs": [
    {
     "data": {
      "text/plain": [
       "array([[[0., 0., 0.],\n",
       "        [0., 0., 0.]],\n",
       "\n",
       "       [[0., 0., 0.],\n",
       "        [0., 0., 0.]],\n",
       "\n",
       "       [[0., 0., 0.],\n",
       "        [0., 0., 0.]]])"
      ]
     },
     "execution_count": 78,
     "metadata": {},
     "output_type": "execute_result"
    }
   ],
   "source": [
    "zeroes"
   ]
  },
  {
   "cell_type": "code",
   "execution_count": 79,
   "id": "944837e0-b61b-4877-8a2d-35fa9004adcf",
   "metadata": {},
   "outputs": [
    {
     "data": {
      "text/plain": [
       "array([[[1., 1., 1.],\n",
       "        [1., 1., 1.]],\n",
       "\n",
       "       [[1., 1., 1.],\n",
       "        [1., 1., 1.]],\n",
       "\n",
       "       [[1., 1., 1.],\n",
       "        [1., 1., 1.]]])"
      ]
     },
     "execution_count": 79,
     "metadata": {},
     "output_type": "execute_result"
    }
   ],
   "source": [
    "new_array"
   ]
  },
  {
   "cell_type": "code",
   "execution_count": 80,
   "id": "76abb3bd-3db9-4dcd-894c-5d58202c0a14",
   "metadata": {},
   "outputs": [
    {
     "data": {
      "text/plain": [
       "array([[[0., 0., 0.],\n",
       "        [0., 0., 0.]],\n",
       "\n",
       "       [[1., 1., 1.],\n",
       "        [1., 1., 1.]],\n",
       "\n",
       "       [[1., 1., 1.],\n",
       "        [1., 1., 1.]],\n",
       "\n",
       "       [[1., 1., 1.],\n",
       "        [1., 1., 1.]],\n",
       "\n",
       "       [[0., 0., 0.],\n",
       "        [0., 0., 0.]],\n",
       "\n",
       "       [[0., 0., 0.],\n",
       "        [0., 0., 0.]]])"
      ]
     },
     "execution_count": 80,
     "metadata": {},
     "output_type": "execute_result"
    }
   ],
   "source": [
    "inserted_array = np.insert(zeroes, 1, new_array, axis=0)\n",
    "inserted_array"
   ]
  },
  {
   "cell_type": "markdown",
   "id": "ba2f9f44-8c83-4fbb-8c1a-80cb78c98079",
   "metadata": {},
   "source": [
    "### Delete"
   ]
  },
  {
   "cell_type": "code",
   "execution_count": 81,
   "id": "c687b39a-0dce-46be-878d-5163f1a6b4f1",
   "metadata": {},
   "outputs": [
    {
     "data": {
      "text/plain": [
       "array([[[0.21418809, 0.0793405 , 0.96223358],\n",
       "        [0.07555772, 0.54887102, 0.77214778]],\n",
       "\n",
       "       [[0.6328631 , 0.81476398, 0.15224622],\n",
       "        [0.20766564, 0.61741509, 0.90859032]],\n",
       "\n",
       "       [[0.04925492, 0.11358961, 0.36627417],\n",
       "        [0.02908273, 0.33826008, 0.8320739 ]]])"
      ]
     },
     "execution_count": 81,
     "metadata": {},
     "output_type": "execute_result"
    }
   ],
   "source": [
    "arr4 = np.random.rand(3,2,3)\n",
    "arr4"
   ]
  },
  {
   "cell_type": "code",
   "execution_count": 84,
   "id": "f36e10a8-55e6-4182-aa42-9cf0039b2690",
   "metadata": {},
   "outputs": [
    {
     "data": {
      "text/plain": [
       "array([[[0.07555772, 0.54887102, 0.77214778]],\n",
       "\n",
       "       [[0.20766564, 0.61741509, 0.90859032]],\n",
       "\n",
       "       [[0.02908273, 0.33826008, 0.8320739 ]]])"
      ]
     },
     "execution_count": 84,
     "metadata": {},
     "output_type": "execute_result"
    }
   ],
   "source": [
    "# delete the array\n",
    "arr5= np.delete(arr4,0,axis=1)\n",
    "arr5"
   ]
  },
  {
   "cell_type": "code",
   "execution_count": 85,
   "id": "4302acd2-d5b1-4f40-980a-1261a0cfae41",
   "metadata": {},
   "outputs": [],
   "source": [
    "np.save(\"new_array\", arr5)"
   ]
  },
  {
   "cell_type": "code",
   "execution_count": 86,
   "id": "86d7ace5-2a2c-40fe-9f15-173be9060aca",
   "metadata": {},
   "outputs": [
    {
     "data": {
      "text/plain": [
       "array([[[0.07555772, 0.54887102, 0.77214778]],\n",
       "\n",
       "       [[0.20766564, 0.61741509, 0.90859032]],\n",
       "\n",
       "       [[0.02908273, 0.33826008, 0.8320739 ]]])"
      ]
     },
     "execution_count": 86,
     "metadata": {},
     "output_type": "execute_result"
    }
   ],
   "source": [
    "np.load(\"new_array.npy\")"
   ]
  },
  {
   "cell_type": "code",
   "execution_count": null,
   "id": "862f4a70-c671-419a-94a4-04932dfce429",
   "metadata": {},
   "outputs": [],
   "source": []
  }
 ],
 "metadata": {
  "kernelspec": {
   "display_name": "Python 3 (ipykernel)",
   "language": "python",
   "name": "python3"
  },
  "language_info": {
   "codemirror_mode": {
    "name": "ipython",
    "version": 3
   },
   "file_extension": ".py",
   "mimetype": "text/x-python",
   "name": "python",
   "nbconvert_exporter": "python",
   "pygments_lexer": "ipython3",
   "version": "3.13.2"
  }
 },
 "nbformat": 4,
 "nbformat_minor": 5
}
